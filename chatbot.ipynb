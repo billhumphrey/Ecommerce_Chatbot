{
 "cells": [
  {
   "cell_type": "code",
   "execution_count": 1,
   "id": "c11b42c5-8b16-46ce-967d-e57939a77b8a",
   "metadata": {},
   "outputs": [
    {
     "data": {
      "text/plain": [
       "True"
      ]
     },
     "execution_count": 1,
     "metadata": {},
     "output_type": "execute_result"
    }
   ],
   "source": [
    "import nltk\n",
    "nltk.download('punkt', quiet = True)\n",
    "nltk.download('wordnet', quiet = True)\n",
    "nltk.download('stopwords',quiet = True)\n",
    "nltk.download('punkt_tab',quiet = True)"
   ]
  },
  {
   "cell_type": "code",
   "execution_count": 2,
   "id": "ae2b9308-77f5-4b6a-9435-ab4fd8dc2263",
   "metadata": {},
   "outputs": [],
   "source": [
    "import nltk\n",
    "import string  \n",
    "import numpy as np\n",
    "import pandas as pd\n",
    "\n",
    "from nltk.corpus import stopwords\n",
    "from nltk.tokenize import word_tokenize\n",
    "from nltk.stem import WordNetLemmatizer\n",
    "from sklearn.feature_extraction.text import TfidfVectorizer  #Converts text into TF-IDF vectors\n",
    "from sklearn.metrics.pairwise import cosine_similarity  #Computes similarity between user input and FAQs"
   ]
  },
  {
   "cell_type": "code",
   "execution_count": 3,
   "id": "d33c8fbb-fac5-4936-b33a-0f26be5a3600",
   "metadata": {},
   "outputs": [],
   "source": [
    "# Initialize lemmatizer and stopwords\n",
    "lemmatizer = WordNetLemmatizer()\n",
    "stop_words = set(stopwords.words(\"english\"))  # Initialize stop words"
   ]
  },
  {
   "cell_type": "code",
   "execution_count": 4,
   "id": "5ba4d0e6-366a-40e4-ba7e-4628df17aea3",
   "metadata": {},
   "outputs": [],
   "source": [
    "def clean_text(text):\n",
    "    text = text.lower()  # Convert to lowercase\n",
    "    text = text.translate(str.maketrans(\"\", \"\", string.punctuation))  # Remove punctuation\n",
    "    words = word_tokenize(text)  # Tokenize text\n",
    "    words = [lemmatizer.lemmatize(word) for word in words if word not in stop_words and word.isalpha()]  # Lemmatize and remove stopwords\n",
    "    return \" \".join(words)"
   ]
  },
  {
   "cell_type": "code",
   "execution_count": 5,
   "id": "2d46ff3d-002f-4190-86b0-8d3590a7c937",
   "metadata": {},
   "outputs": [],
   "source": [
    "def wrangle(filepath):\n",
    "    df = pd.read_csv(filepath)\n",
    "    \n",
    "    #Drop unnecessary columns\n",
    "    df = df.drop(columns = [\"ID\",\n",
    "                        \"Topic\",\n",
    "                       \"Subtopic\"\n",
    "                      ])\n",
    "    df[\"Cleaned_questions\"] = df[\"Question\"].apply(clean_text)\n",
    "    \n",
    "    return df"
   ]
  },
  {
   "cell_type": "code",
   "execution_count": 6,
   "id": "87214070-1375-49d4-a694-47298bf0bd70",
   "metadata": {},
   "outputs": [
    {
     "data": {
      "text/html": [
       "<div>\n",
       "<style scoped>\n",
       "    .dataframe tbody tr th:only-of-type {\n",
       "        vertical-align: middle;\n",
       "    }\n",
       "\n",
       "    .dataframe tbody tr th {\n",
       "        vertical-align: top;\n",
       "    }\n",
       "\n",
       "    .dataframe thead th {\n",
       "        text-align: right;\n",
       "    }\n",
       "</style>\n",
       "<table border=\"1\" class=\"dataframe\">\n",
       "  <thead>\n",
       "    <tr style=\"text-align: right;\">\n",
       "      <th></th>\n",
       "      <th>Question</th>\n",
       "      <th>Answer</th>\n",
       "      <th>Cleaned_questions</th>\n",
       "    </tr>\n",
       "  </thead>\n",
       "  <tbody>\n",
       "    <tr>\n",
       "      <th>0</th>\n",
       "      <td>Where Tesco delivers to</td>\n",
       "      <td>We deliver to most UK residential addresses. T...</td>\n",
       "      <td>tesco delivers</td>\n",
       "    </tr>\n",
       "    <tr>\n",
       "      <th>1</th>\n",
       "      <td>Delivery and Click+Collect prices</td>\n",
       "      <td>The standard delivery charge is between £3–£7,...</td>\n",
       "      <td>delivery clickcollect price</td>\n",
       "    </tr>\n",
       "    <tr>\n",
       "      <th>2</th>\n",
       "      <td>Minimum order value</td>\n",
       "      <td>A £5 minimum basket charge will be added to de...</td>\n",
       "      <td>minimum order value</td>\n",
       "    </tr>\n",
       "    <tr>\n",
       "      <th>3</th>\n",
       "      <td>Returning an item</td>\n",
       "      <td>Please see our returns policy.</td>\n",
       "      <td>returning item</td>\n",
       "    </tr>\n",
       "    <tr>\n",
       "      <th>4</th>\n",
       "      <td>Slot times and options</td>\n",
       "      <td>You can choose to get your shopping delivered ...</td>\n",
       "      <td>slot time option</td>\n",
       "    </tr>\n",
       "  </tbody>\n",
       "</table>\n",
       "</div>"
      ],
      "text/plain": [
       "                            Question  \\\n",
       "0            Where Tesco delivers to   \n",
       "1  Delivery and Click+Collect prices   \n",
       "2                Minimum order value   \n",
       "3                  Returning an item   \n",
       "4             Slot times and options   \n",
       "\n",
       "                                              Answer  \\\n",
       "0  We deliver to most UK residential addresses. T...   \n",
       "1  The standard delivery charge is between £3–£7,...   \n",
       "2  A £5 minimum basket charge will be added to de...   \n",
       "3                     Please see our returns policy.   \n",
       "4  You can choose to get your shopping delivered ...   \n",
       "\n",
       "             Cleaned_questions  \n",
       "0               tesco delivers  \n",
       "1  delivery clickcollect price  \n",
       "2          minimum order value  \n",
       "3               returning item  \n",
       "4             slot time option  "
      ]
     },
     "execution_count": 6,
     "metadata": {},
     "output_type": "execute_result"
    }
   ],
   "source": [
    "df = wrangle(\"C:/Users/HomePC/OneDrive/Desktop/chatbot/Tesco_ grocery_FAQ'S.csv\")\n",
    "df.head()"
   ]
  },
  {
   "cell_type": "code",
   "execution_count": null,
   "id": "35ac1b21-0340-43a2-b2ea-67758aa2ac38",
   "metadata": {},
   "outputs": [
    {
     "name": "stdout",
     "output_type": "stream",
     "text": [
      "Index(['Question', 'Answer', 'Cleaned_questions'], dtype='object')\n"
     ]
    }
   ],
   "source": [
    "print(df.columns)"
   ]
  },
  {
   "cell_type": "code",
   "execution_count": 7,
   "id": "76f49aeb-f6a1-46cf-8a7f-15b92c400a31",
   "metadata": {},
   "outputs": [],
   "source": [
    "# Initialize TF-IDF Vectorizer\n",
    "vectorizer = TfidfVectorizer()"
   ]
  },
  {
   "cell_type": "code",
   "execution_count": 12,
   "id": "6f0ab5ac-80a5-4e42-99d0-e96e9c9c4d0b",
   "metadata": {},
   "outputs": [],
   "source": [
    "def get_response(user_query):\n",
    "    \"\"\"Find the most relevant FAQ answer based on cosine similarity.\"\"\"\n",
    "    user_query = user_query.lower()  # Normalize text\n",
    "    \n",
    "    # Greetings\n",
    "    if user_query in [\"hello\", \"hi\"]:\n",
    "        return \"Hello! How can I assist you today?\"\n",
    "    if user_query in [\"bye\", \"goodbye\"]:\n",
    "        return \"Goodbye! Have a great day!\"\n",
    "    \n",
    "    # Ensure tfidf_matrix is defined\n",
    "    global tfidf_matrix\n",
    "    if 'tfidf_matrix' not in globals():\n",
    "        tfidf_matrix = vectorizer.fit_transform(df[\"Cleaned_questions\"])\n",
    "    \n",
    "    user_query = clean_text(user_query)  # Clean user input\n",
    "    user_tfidf = vectorizer.transform([user_query])  # Transform user input using TF-IDF\n",
    "    similarities = cosine_similarity(user_tfidf, tfidf_matrix)  # Compute similarity\n",
    "    best_match_idx = np.argmax(similarities)  # Get the index of the best match\n",
    "    best_match_score = similarities[0, best_match_idx] \n",
    "\n",
    "\n",
    "    if best_match_score < 0.3:  # Adjust threshold as needed\n",
    "        return \"I'm sorry, I didn't understand. Can you rephrase?\"\n",
    "          \n",
    "    return df.iloc[best_match_idx][\"Answer\"]  # Return the corresponding answer"
   ]
  },
  {
   "cell_type": "code",
   "execution_count": 13,
   "id": "531679d0-6ca1-4e19-8743-432df0cc8d1c",
   "metadata": {},
   "outputs": [
    {
     "name": "stdout",
     "output_type": "stream",
     "text": [
      "Chatbot: Hello! How can I assist you today?\n",
      "Chatbot: Hello! How can I assist you today?\n",
      "Chatbot: I'm sorry, I didn't understand. Can you rephrase?\n",
      "Chatbot: I'm sorry, I didn't understand. Can you rephrase?\n"
     ]
    },
    {
     "ename": "KeyboardInterrupt",
     "evalue": "Interrupted by user",
     "output_type": "error",
     "traceback": [
      "\u001b[1;31m---------------------------------------------------------------------------\u001b[0m",
      "\u001b[1;31mKeyboardInterrupt\u001b[0m                         Traceback (most recent call last)",
      "Cell \u001b[1;32mIn[13], line 6\u001b[0m\n\u001b[0;32m      4\u001b[0m \u001b[38;5;66;03m# Example usage\u001b[39;00m\n\u001b[0;32m      5\u001b[0m \u001b[38;5;28;01mwhile\u001b[39;00m \u001b[38;5;28;01mTrue\u001b[39;00m:\n\u001b[1;32m----> 6\u001b[0m     user_input \u001b[38;5;241m=\u001b[39m \u001b[38;5;28minput\u001b[39m(\u001b[38;5;124m\"\u001b[39m\u001b[38;5;124mYou: \u001b[39m\u001b[38;5;124m\"\u001b[39m)\n\u001b[0;32m      7\u001b[0m     \u001b[38;5;28;01mif\u001b[39;00m user_input\u001b[38;5;241m.\u001b[39mlower() \u001b[38;5;241m==\u001b[39m \u001b[38;5;124m\"\u001b[39m\u001b[38;5;124mexit\u001b[39m\u001b[38;5;124m\"\u001b[39m:\n\u001b[0;32m      8\u001b[0m         \u001b[38;5;28mprint\u001b[39m(\u001b[38;5;124m\"\u001b[39m\u001b[38;5;124mChatbot: Goodbye!\u001b[39m\u001b[38;5;124m\"\u001b[39m)\n",
      "File \u001b[1;32mc:\\Users\\HomePC\\anaconda3\\Lib\\site-packages\\ipykernel\\kernelbase.py:1262\u001b[0m, in \u001b[0;36mKernel.raw_input\u001b[1;34m(self, prompt)\u001b[0m\n\u001b[0;32m   1260\u001b[0m     msg \u001b[38;5;241m=\u001b[39m \u001b[38;5;124m\"\u001b[39m\u001b[38;5;124mraw_input was called, but this frontend does not support input requests.\u001b[39m\u001b[38;5;124m\"\u001b[39m\n\u001b[0;32m   1261\u001b[0m     \u001b[38;5;28;01mraise\u001b[39;00m StdinNotImplementedError(msg)\n\u001b[1;32m-> 1262\u001b[0m \u001b[38;5;28;01mreturn\u001b[39;00m \u001b[38;5;28mself\u001b[39m\u001b[38;5;241m.\u001b[39m_input_request(\n\u001b[0;32m   1263\u001b[0m     \u001b[38;5;28mstr\u001b[39m(prompt),\n\u001b[0;32m   1264\u001b[0m     \u001b[38;5;28mself\u001b[39m\u001b[38;5;241m.\u001b[39m_parent_ident[\u001b[38;5;124m\"\u001b[39m\u001b[38;5;124mshell\u001b[39m\u001b[38;5;124m\"\u001b[39m],\n\u001b[0;32m   1265\u001b[0m     \u001b[38;5;28mself\u001b[39m\u001b[38;5;241m.\u001b[39mget_parent(\u001b[38;5;124m\"\u001b[39m\u001b[38;5;124mshell\u001b[39m\u001b[38;5;124m\"\u001b[39m),\n\u001b[0;32m   1266\u001b[0m     password\u001b[38;5;241m=\u001b[39m\u001b[38;5;28;01mFalse\u001b[39;00m,\n\u001b[0;32m   1267\u001b[0m )\n",
      "File \u001b[1;32mc:\\Users\\HomePC\\anaconda3\\Lib\\site-packages\\ipykernel\\kernelbase.py:1305\u001b[0m, in \u001b[0;36mKernel._input_request\u001b[1;34m(self, prompt, ident, parent, password)\u001b[0m\n\u001b[0;32m   1302\u001b[0m \u001b[38;5;28;01mexcept\u001b[39;00m \u001b[38;5;167;01mKeyboardInterrupt\u001b[39;00m:\n\u001b[0;32m   1303\u001b[0m     \u001b[38;5;66;03m# re-raise KeyboardInterrupt, to truncate traceback\u001b[39;00m\n\u001b[0;32m   1304\u001b[0m     msg \u001b[38;5;241m=\u001b[39m \u001b[38;5;124m\"\u001b[39m\u001b[38;5;124mInterrupted by user\u001b[39m\u001b[38;5;124m\"\u001b[39m\n\u001b[1;32m-> 1305\u001b[0m     \u001b[38;5;28;01mraise\u001b[39;00m \u001b[38;5;167;01mKeyboardInterrupt\u001b[39;00m(msg) \u001b[38;5;28;01mfrom\u001b[39;00m \u001b[38;5;28;01mNone\u001b[39;00m\n\u001b[0;32m   1306\u001b[0m \u001b[38;5;28;01mexcept\u001b[39;00m \u001b[38;5;167;01mException\u001b[39;00m:\n\u001b[0;32m   1307\u001b[0m     \u001b[38;5;28mself\u001b[39m\u001b[38;5;241m.\u001b[39mlog\u001b[38;5;241m.\u001b[39mwarning(\u001b[38;5;124m\"\u001b[39m\u001b[38;5;124mInvalid Message:\u001b[39m\u001b[38;5;124m\"\u001b[39m, exc_info\u001b[38;5;241m=\u001b[39m\u001b[38;5;28;01mTrue\u001b[39;00m)\n",
      "\u001b[1;31mKeyboardInterrupt\u001b[0m: Interrupted by user"
     ]
    }
   ],
   "source": [
    "# Fit TF-IDF vectorizer before entering loop\n",
    "tfidf_matrix = vectorizer.fit_transform(df[\"Cleaned_questions\"])\n",
    "\n",
    "# Example usage\n",
    "while True:\n",
    "    user_input = input(\"You: \")\n",
    "    if user_input.lower() == \"exit\":\n",
    "        print(\"Chatbot: Goodbye!\")\n",
    "        break\n",
    "    print(f\"Chatbot: {get_response(user_input)}\")\n"
   ]
  },
  {
   "cell_type": "code",
   "execution_count": null,
   "id": "c84e0d2c-e7f2-49c3-bc1e-e4903f07b0d4",
   "metadata": {},
   "outputs": [],
   "source": []
  }
 ],
 "metadata": {
  "kernelspec": {
   "display_name": "base",
   "language": "python",
   "name": "python3"
  },
  "language_info": {
   "codemirror_mode": {
    "name": "ipython",
    "version": 3
   },
   "file_extension": ".py",
   "mimetype": "text/x-python",
   "name": "python",
   "nbconvert_exporter": "python",
   "pygments_lexer": "ipython3",
   "version": "3.12.7"
  }
 },
 "nbformat": 4,
 "nbformat_minor": 5
}
